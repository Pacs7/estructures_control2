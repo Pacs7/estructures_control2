{
 "cells": [
  {
   "cell_type": "markdown",
   "id": "9a359218",
   "metadata": {},
   "source": [
    "# Sprint 3\n",
    "## Tasca M3 T01\n",
    "\n",
    "### Exercici 1\n",
    "\n",
    "Crea una funció que donat un Array d’una dimensió, et faci un resum estadístic bàsic de les dades. Si detecta que l’array té més d’una dimensió, ha de mostrar un missatge d’error."
   ]
  },
  {
   "cell_type": "code",
   "execution_count": 1,
   "id": "a717a7e6",
   "metadata": {},
   "outputs": [
    {
     "name": "stdout",
     "output_type": "stream",
     "text": [
      "\u001b[1mResum estadístic\u001b[0m\n",
      "\n",
      "Suma: 30\n",
      "Resta més gran amb més petit: 6\n",
      "Diferència entre valors: [ 1 -1  3  3 -4]\n",
      "Mitjana: 5\n",
      "Mult. entre valors (5!): 9720\n"
     ]
    }
   ],
   "source": [
    "import numpy as np\n",
    "import statistics as st\n",
    "\n",
    "def resest(array):\n",
    "    suma=[]\n",
    "    res=[]\n",
    "    dif=[]\n",
    "    avg=[]\n",
    "    mult=[]\n",
    "    if np.ndim(array) == 1:\n",
    "        suma=np.sum(array)\n",
    "        avg=st.mean(array) #o bé avg=suma/len(arr)\n",
    "        dif=np.diff(array)\n",
    "\n",
    "        ngran=max(array)\n",
    "        npetit=min(array)\n",
    "        res=ngran-npetit\n",
    "\n",
    "        mult=1\n",
    "        for jj in range(len(array)):\n",
    "            mult=mult*array[jj]\n",
    "        print('\\033[1m'+\"Resum estadístic\"+'\\033[0m')\n",
    "        print(\"\\nSuma:\",suma)\n",
    "        print(\"Resta més gran amb més petit:\",res)\n",
    "        print(\"Diferència entre valors:\",dif)\n",
    "        print(\"Mitjana:\",avg)\n",
    "        print(\"Mult. entre valors (5!):\",mult)\n",
    "    else:\n",
    "        print('Error, not a 1-dim array')\n",
    "        \n",
    "    return suma,res,dif,avg,mult\n",
    "\n",
    "\n",
    "#Operacions amb la array\n",
    "\n",
    "arr=np.array([3,4,3,6,9,5])\n",
    "suma,res,dif,avg,mult=resest(arr)"
   ]
  },
  {
   "cell_type": "markdown",
   "id": "3e45ac2b",
   "metadata": {},
   "source": [
    "### Exercici 2\n",
    "\n",
    "Crea una funció que et generi un quadrat NxN de nombres aleatoris entre el 0 i el 100."
   ]
  },
  {
   "cell_type": "code",
   "execution_count": 2,
   "id": "f68b8507",
   "metadata": {},
   "outputs": [
    {
     "name": "stdout",
     "output_type": "stream",
     "text": [
      "[[ 2 59 27  8 33 54 51 42  0 22]\n",
      " [79 31 67  0 11 82 70 23 41 28]\n",
      " [30 88 13 63 94 36 79 96 62 69]\n",
      " [99 44 94 11 42 89 10  2 61 14]\n",
      " [54 71 48  7 25 98 83 26 45 52]\n",
      " [49  6 21 59 64 90 32 25 57  5]\n",
      " [55  3 49  8 93 12 35 22 90 84]\n",
      " [54 71 11 54 67 64 66 46 97 36]\n",
      " [66 79 36 10 40 33 20 99 29 61]\n",
      " [68 62 96 43  9 53 74 79 90 17]]\n"
     ]
    }
   ],
   "source": [
    "from numpy import random\n",
    "\n",
    "def sqrand(N):\n",
    "    randmat=random.randint(100, size=(N,N))\n",
    "    print(randmat)\n",
    "\n",
    "    \n",
    "#Example\n",
    "\n",
    "N=10\n",
    "sqrand(N)"
   ]
  },
  {
   "cell_type": "markdown",
   "id": "cf0bd5d5",
   "metadata": {},
   "source": [
    "### Exercici 3\n",
    "\n",
    "Crea una funció que donada una taula de dues dimensions (NxM), et calculi els totals per fila i els totals per columna."
   ]
  },
  {
   "cell_type": "code",
   "execution_count": 3,
   "id": "19d61827",
   "metadata": {},
   "outputs": [
    {
     "name": "stdout",
     "output_type": "stream",
     "text": [
      "Matrix ->\n",
      "[[24 45 28 36 38 26]\n",
      " [32 18 44 33  6 24]\n",
      " [ 5 13 18 35 22 12]\n",
      " [37 32 35  7 29 30]]\n",
      "\n",
      "TOTAL PER FILES: 197 157 105 170\n",
      "TOTAL PER COLUMNES: 98 108 125 111 95 92\n"
     ]
    }
   ],
   "source": [
    "def crtots(N,M):\n",
    "    randmat=random.randint(50, size=(N,M))\n",
    "    print('Matrix ->')#matriu NxM\n",
    "    print(randmat) #fila en blanc per separar\n",
    "\n",
    "    files=np.sum(randmat, axis=1)\n",
    "    cols=np.sum(randmat, axis=0)\n",
    "    print('\\nTOTAL PER FILES:',*files)\n",
    "    print('TOTAL PER COLUMNES:',*cols)\n",
    "\n",
    "\n",
    "#Example\n",
    "\n",
    "N=4\n",
    "M=6\n",
    "crtots(N,M)"
   ]
  },
  {
   "cell_type": "markdown",
   "id": "8f8f9663",
   "metadata": {},
   "source": [
    "### Exercici 4\n",
    "\n",
    "Implementa manualment una funció que calculi el coeficient de correlació. Informa-te'n sobre els seus usos i interpretació."
   ]
  },
  {
   "cell_type": "code",
   "execution_count": 5,
   "id": "edfd70a0",
   "metadata": {},
   "outputs": [
    {
     "name": "stdout",
     "output_type": "stream",
     "text": [
      "Coeficient de correlació a mà: 0.9787234042553193\n",
      "Coeficient de correlació amb numpy: 0.9999999999999999\n"
     ]
    }
   ],
   "source": [
    "def calcc(arr1,arr2):\n",
    "    altm=st.mean(arr1)\n",
    "    pesm=st.mean(arr2)\n",
    "    num=0\n",
    "    den=0\n",
    "\n",
    "    for jj in range(len(arr1)):\n",
    "        num=num+(arr1[jj]-altm)*(arr2[jj]-pesm)\n",
    "        den=den+np.sqrt(np.square(arr1[jj]-altm)*np.square(arr2[jj]-pesm))\n",
    "\n",
    "    r=num/den\n",
    "    rnp=np.corrcoef(arr1,arr2) # el coeficient de correlació és el que està a les diagonals de la matriu\n",
    "    print('Coeficient de correlació a mà:',r)\n",
    "    print('Coeficient de correlació amb numpy:',rnp[0,0])\n",
    "    return r,rnp\n",
    "\n",
    "#Example\n",
    "\n",
    "arr1=np.array([1.75, 1.88, 1.65, 1.72, 1.93, 1.83])\n",
    "arr2=np.array([69, 73, 56, 63, 105, 80])\n",
    "\n",
    "r,rnp=calcc(arr1,arr2)"
   ]
  },
  {
   "cell_type": "markdown",
   "id": "abb42685",
   "metadata": {},
   "source": [
    "Podem veure com el coeficient és pràcticament r=1, el que indica que aquestes dos variables estàn lligades entre sí linealment. Quant més gran sigui una, més creixerà l'altre per norma general."
   ]
  }
 ],
 "metadata": {
  "kernelspec": {
   "display_name": "Python 3",
   "language": "python",
   "name": "python3"
  },
  "language_info": {
   "codemirror_mode": {
    "name": "ipython",
    "version": 3
   },
   "file_extension": ".py",
   "mimetype": "text/x-python",
   "name": "python",
   "nbconvert_exporter": "python",
   "pygments_lexer": "ipython3",
   "version": "3.8.8"
  }
 },
 "nbformat": 4,
 "nbformat_minor": 5
}
